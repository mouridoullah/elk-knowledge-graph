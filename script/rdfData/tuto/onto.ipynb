{
 "cells": [
  {
   "cell_type": "code",
   "execution_count": null,
   "metadata": {},
   "outputs": [],
   "source": [
    "import rdflib\n",
    "from rdflib import Graph, Namespace\n",
    "import owlrl\n",
    "from rdflib.namespace import FOAF, DCTERMS, SKOS"
   ]
  },
  {
   "cell_type": "code",
   "execution_count": null,
   "metadata": {},
   "outputs": [],
   "source": [
    "dbo = Namespace(\"http://dbpedia.org/ontology/\")"
   ]
  },
  {
   "cell_type": "code",
   "execution_count": null,
   "metadata": {},
   "outputs": [],
   "source": [
    "my_rdf = Graph().parse('data.ttl', format='turtle' )\n",
    "print(my_rdf.serialize(format=\"turtle\"))"
   ]
  },
  {
   "cell_type": "code",
   "execution_count": null,
   "metadata": {},
   "outputs": [],
   "source": [
    "owlrl.DeductiveClosure(owlrl.RDFS_Semantics, datatype_axioms=True).expand(my_rdf)\n",
    "owlrl.DeductiveClosure(owlrl.OWLRL_Extension, datatype_axioms=True).expand(my_rdf)"
   ]
  },
  {
   "cell_type": "code",
   "execution_count": null,
   "metadata": {},
   "outputs": [],
   "source": [
    "spql = 'SELECT ?x WHERE { ct:Versailles loria:nearTo ?x .}'\n",
    "res = my_rdf.query(spql, initNs={\"loria\":\"http://exemple.org/ontology/loria/\", \"ct\":\"http://example.org/city/\" })\n",
    "\n",
    "for row in res:\n",
    "  print(row[\"x\"])\n"
   ]
  },
  {
   "cell_type": "code",
   "execution_count": null,
   "metadata": {},
   "outputs": [],
   "source": [
    "spql = 'select ?x where { ct:Versailles a ?x . }'\n",
    "res = my_rdf.query(spql, initNs={\"dbo\":dbo, \"ct\":\"http://example.org/city/\"})\n",
    "\n",
    "for row in res:\n",
    "  print(row)"
   ]
  },
  {
   "cell_type": "markdown",
   "metadata": {},
   "source": [
    "### Select Well-known Ontologies"
   ]
  },
  {
   "cell_type": "code",
   "execution_count": null,
   "metadata": {},
   "outputs": [],
   "source": [
    "dc_onto = Graph().parse(\"https://www.dublincore.org/specifications/dublin-core/dcmi-terms/dublin_core_terms.ttl\", format=\"turtle\")\n",
    "foaf_onto = Graph().parse(\"http://xmlns.com/foaf/0.1/index.rdf\", format=\"xml\")\n",
    "skos_onto = Graph().parse(\"http://www.w3.org/TR/skos-reference/skos.rdf\", format=\"xml\")\n",
    "pp = Namespace(\"http://example.org/people/\")"
   ]
  },
  {
   "cell_type": "markdown",
   "metadata": {},
   "source": [
    "### Create your Customed Ontology"
   ]
  },
  {
   "cell_type": "code",
   "execution_count": null,
   "metadata": {},
   "outputs": [],
   "source": [
    "rc_onto = Graph().parse('loria_onto.ttl', format='turtle' )\n",
    "print(\"LORIA ONTO --> ....\",rc_onto.serialize(format=\"turtle\"))"
   ]
  },
  {
   "cell_type": "markdown",
   "metadata": {},
   "source": [
    "### Create your RDF Data"
   ]
  },
  {
   "cell_type": "code",
   "execution_count": null,
   "metadata": {},
   "outputs": [],
   "source": [
    "my_abox = Graph().parse('my_rdf.ttl', format='turtle' )\n",
    "print(my_abox.serialize(format=\"turtle\"))"
   ]
  },
  {
   "cell_type": "markdown",
   "metadata": {},
   "source": [
    "### Combine data and ontologies"
   ]
  },
  {
   "cell_type": "code",
   "execution_count": null,
   "metadata": {},
   "outputs": [],
   "source": [
    "g = dc_onto + foaf_onto + skos_onto + rc_onto + my_abox"
   ]
  },
  {
   "cell_type": "markdown",
   "metadata": {},
   "source": [
    "### Deductive Closure"
   ]
  },
  {
   "cell_type": "code",
   "execution_count": null,
   "metadata": {},
   "outputs": [],
   "source": [
    "owlrl.DeductiveClosure(owlrl.RDFS_Semantics, datatype_axioms=True).expand(g)\n",
    "owlrl.DeductiveClosure(owlrl.OWLRL_Extension, datatype_axioms=True).expand(g)"
   ]
  },
  {
   "cell_type": "markdown",
   "metadata": {},
   "source": [
    "### Query"
   ]
  },
  {
   "cell_type": "code",
   "execution_count": null,
   "metadata": {},
   "outputs": [],
   "source": [
    "# What is Harry Potter?\n",
    "\n",
    "spql = 'SELECT ?p ?o WHERE { ex:harry_potter ?p ?o.}'\n",
    "res = g.query(spql, initNs={\"foaf\":FOAF, \"pp\":pp, \"ex\":\"http://example.org/\"})\n",
    "\n",
    "for row in res:\n",
    "  print(row[\"p\"], row[\"o\"])"
   ]
  },
  {
   "cell_type": "code",
   "execution_count": null,
   "metadata": {},
   "outputs": [],
   "source": [
    "# What is JK Rowling?\n",
    "\n",
    "spql = 'SELECT ?p ?o WHERE { pp:jkrowling ?p ?o.}'\n",
    "res = g.query(spql, initNs={\"foaf\":FOAF, \"pp\":pp, \"ex\":\"http://example.org/\"})\n",
    "\n",
    "for row in res:\n",
    "  print(row[\"p\"], row[\"o\"])"
   ]
  },
  {
   "cell_type": "markdown",
   "metadata": {},
   "source": [
    "## To Query with well-known Terms"
   ]
  },
  {
   "cell_type": "code",
   "execution_count": null,
   "metadata": {},
   "outputs": [],
   "source": [
    "# Who are Person?\n",
    "\n",
    "spql = 'SELECT ?x WHERE { ?x a foaf:Person .}'\n",
    "res = g.query(spql, initNs={\"foaf\":FOAF, \"pp\":pp, \"ex\":\"http://example.org/\"})\n",
    "\n",
    "for row in res:\n",
    "  print(row[\"x\"])"
   ]
  },
  {
   "cell_type": "code",
   "execution_count": null,
   "metadata": {},
   "outputs": [],
   "source": [
    "# What are Documents?\n",
    "\n",
    "spql = 'SELECT ?x WHERE { ?x a foaf:Document .}'\n",
    "res = g.query(spql, initNs={\"foaf\":FOAF, \"pp\":pp, \"ex\":\"http://example.org/\"})\n",
    "\n",
    "for row in res:\n",
    "  print(row[\"x\"])"
   ]
  },
  {
   "cell_type": "code",
   "execution_count": null,
   "metadata": {},
   "outputs": [],
   "source": [
    "# Who write what?\n",
    "\n",
    "spql = 'SELECT ?x ?y WHERE { ?x dcterms:creator ?y .}'\n",
    "res = g.query(spql, initNs={\"foaf\":FOAF, \"pp\":pp, \"ex\":\"http://example.org/\", \"dcterms\":DCTERMS})\n",
    "\n",
    "for row in res:\n",
    "  print(row[\"x\"], row[\"y\"])"
   ]
  },
  {
   "cell_type": "code",
   "execution_count": null,
   "metadata": {},
   "outputs": [],
   "source": [
    "# What are boader Concepts of harry potter\n",
    "\n",
    "spql = 'SELECT ?x WHERE { ex:harry_potter skos:broaderTransitive ?x .}'\n",
    "res = g.query(spql, initNs={\"foaf\":FOAF, \"pp\":pp, \"ex\":\"http://example.org/\", \"dcterms\":DCTERMS, \"skos\":SKOS})\n",
    "\n",
    "for row in res:\n",
    "  print(row[\"x\"])"
   ]
  },
  {
   "cell_type": "code",
   "execution_count": null,
   "metadata": {},
   "outputs": [],
   "source": [
    "# What are boader Concepts of Fantacy\n",
    "\n",
    "spql = 'SELECT ?x WHERE { ex:Fantacy skos:broaderTransitive ?x .}'\n",
    "res = g.query(spql, initNs={\"foaf\":FOAF, \"pp\":pp, \"ex\":\"http://example.org/\", \"dcterms\":DCTERMS, \"skos\":SKOS})\n",
    "\n",
    "for row in res:\n",
    "  print(row[\"x\"])"
   ]
  },
  {
   "cell_type": "code",
   "execution_count": null,
   "metadata": {},
   "outputs": [],
   "source": [
    "# What are narrower Concepts of Fantacy\n",
    "\n",
    "spql = 'SELECT ?x WHERE { ex:Fantacy skos:narrowerTransitive ?x .}'\n",
    "res = g.query(spql, initNs={\"foaf\":FOAF, \"pp\":pp, \"ex\":\"http://example.org/\", \"dcterms\":DCTERMS, \"skos\":SKOS})\n",
    "\n",
    "for row in res:\n",
    "  print(row[\"x\"])"
   ]
  },
  {
   "cell_type": "code",
   "execution_count": null,
   "metadata": {},
   "outputs": [],
   "source": [
    "# What are narrower Concepts of Story\n",
    "\n",
    "spql = 'SELECT ?x WHERE { ex:Story skos:narrowerTransitive ?x .}'\n",
    "res = g.query(spql, initNs={\"foaf\":FOAF, \"pp\":pp, \"ex\":\"http://example.org/\", \"dcterms\":DCTERMS, \"skos\":SKOS})\n",
    "\n",
    "for row in res:\n",
    "  print(row[\"x\"])"
   ]
  },
  {
   "cell_type": "code",
   "execution_count": null,
   "metadata": {},
   "outputs": [],
   "source": [
    "# ASK\n",
    "\n",
    "spql = 'ASK {ex:harry_potter skos:broaderTransitive ex:Story .}'\n",
    "res = g.query(spql, initNs={\"foaf\":FOAF, \"pp\":pp, \"ex\":\"http://example.org/\", \"dcterms\":DCTERMS, \"skos\":SKOS})\n",
    "\n",
    "for row in res:\n",
    "  print(row)"
   ]
  },
  {
   "cell_type": "code",
   "execution_count": null,
   "metadata": {},
   "outputs": [],
   "source": [
    "texte = input(\"Entrez une chaîne de caractères : \")\n",
    "print(\"Vous avez entré : \" + texte)"
   ]
  },
  {
   "cell_type": "code",
   "execution_count": null,
   "metadata": {},
   "outputs": [],
   "source": []
  }
 ],
 "metadata": {
  "kernelspec": {
   "display_name": "base",
   "language": "python",
   "name": "python3"
  },
  "language_info": {
   "codemirror_mode": {
    "name": "ipython",
    "version": 3
   },
   "file_extension": ".py",
   "mimetype": "text/x-python",
   "name": "python",
   "nbconvert_exporter": "python",
   "pygments_lexer": "ipython3",
   "version": "3.9.13"
  },
  "orig_nbformat": 4
 },
 "nbformat": 4,
 "nbformat_minor": 2
}
