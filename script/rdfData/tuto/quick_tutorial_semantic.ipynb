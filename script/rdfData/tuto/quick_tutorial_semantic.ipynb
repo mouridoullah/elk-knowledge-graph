{
  "cells": [
    {
      "cell_type": "markdown",
      "metadata": {
        "id": "VSbDFAnEvQ7W"
      },
      "source": [
        "# **A Quick Semantic Technology Tutorial**\n",
        "> ## *Author* : [Rathachai CHAWUTHAI](https://rathachai.creatier.pro/) , Ph.D\n",
        "> ### *Affiliation* : Computer Engineering, King Mongkut's Institute of Technology Ladkrabang (KMITL)\n",
        "> #### *Updated Date* : 2021-01-21\n",
        "---"
      ]
    },
    {
      "cell_type": "markdown",
      "metadata": {
        "id": "2JL_KaZwvXON"
      },
      "source": [
        "<a rel=\"license\" href=\"http://creativecommons.org/licenses/by-nc-sa/4.0/\"><img alt=\"Creative Commons License\" style=\"border-width:0\" src=\"https://i.creativecommons.org/l/by-nc-sa/4.0/88x31.png\" /></a><br />This work is licensed under a <a rel=\"license\" href=\"http://creativecommons.org/licenses/by-nc-sa/4.0/\">Creative Commons Attribution-NonCommercial-ShareAlike 4.0 International License</a>."
      ]
    },
    {
      "cell_type": "markdown",
      "metadata": {
        "id": "txEJYWZJ5mVd"
      },
      "source": [
        "**References:**\n",
        "*   https://github.com/RDFLib/rdflib\n",
        "*   https://rdflib.readthedocs.io/\n",
        "*   https://owl-rl.readthedocs.io/\n",
        "*   https://rdflib.dev/sparqlwrapper/"
      ]
    },
    {
      "cell_type": "markdown",
      "metadata": {
        "id": "DDIP7Y2OWk9w"
      },
      "source": [
        "\n",
        "\n",
        "---\n",
        "\n"
      ]
    },
    {
      "cell_type": "markdown",
      "metadata": {
        "id": "VrIoSjN-igfm"
      },
      "source": [
        "### To Install Libs"
      ]
    },
    {
      "cell_type": "code",
      "execution_count": null,
      "metadata": {
        "id": "tR_VbJNc5XxK"
      },
      "outputs": [],
      "source": [
        "!pip install rdflib"
      ]
    },
    {
      "cell_type": "code",
      "execution_count": null,
      "metadata": {
        "id": "zBK9rq5JFOPu"
      },
      "outputs": [],
      "source": [
        "!pip install owlrl"
      ]
    },
    {
      "cell_type": "code",
      "execution_count": null,
      "metadata": {
        "id": "OJvrFbXx1myK"
      },
      "outputs": [],
      "source": [
        "!pip install sparqlwrapper"
      ]
    },
    {
      "cell_type": "markdown",
      "metadata": {
        "id": "Ztd3rSVmik5K"
      },
      "source": [
        "## To Load used Libraries"
      ]
    },
    {
      "cell_type": "code",
      "execution_count": 2,
      "metadata": {
        "id": "z7z_MP8s5MMZ"
      },
      "outputs": [],
      "source": [
        "import rdflib\n",
        "from rdflib import URIRef, BNode, Literal\n",
        "from rdflib import Namespace\n",
        "from rdflib.namespace import CSVW, DC, DCAT, DCTERMS, DOAP, FOAF, ODRL2, ORG, OWL, PROF, PROV, RDF, RDFS, SDO, SH, SKOS, SOSA, SSN, TIME, VOID, XMLNS, XSD\n",
        "from rdflib.plugins import sparql\n",
        "\n",
        "import owlrl\n",
        "\n",
        "from SPARQLWrapper import SPARQLWrapper, JSON, XML, N3, TURTLE, JSONLD"
      ]
    },
    {
      "cell_type": "markdown",
      "metadata": {
        "id": "H0xBqOIXMWfr"
      },
      "source": [
        "## To Understand the Power of Semantic Technology"
      ]
    },
    {
      "cell_type": "code",
      "execution_count": null,
      "metadata": {
        "id": "ldrUVIKSMVzS"
      },
      "outputs": [],
      "source": [
        "###### Well-Known Ontologies ##########\n",
        "foaf_onto = rdflib.Graph().parse(\"http://xmlns.com/foaf/0.1/index.rdf\", format=\"xml\")\n",
        "\n",
        "###### My RDF Data #########################################################\n",
        "my_rdf_text = '''\n",
        "@prefix foaf: <http://xmlns.com/foaf/0.1/> .\n",
        "@prefix pp: <http://example.org/people/> .\n",
        "@prefix owl: <http://www.w3.org/2002/07/owl#> .\n",
        "\n",
        "foaf:knows a owl:SymmetricProperty .\n",
        "\n",
        "pp:alice foaf:knows pp:bob .\n",
        "'''\n",
        "my_rdf = rdflib.Graph().parse( data=my_rdf_text, format='turtle' )\n",
        "\n",
        "###### My RDF Graph ######\n",
        "\n",
        "g = foaf_onto + my_rdf \n",
        "\n",
        "owlrl.DeductiveClosure(owlrl.RDFS_Semantics, datatype_axioms=True).expand(g)\n",
        "owlrl.DeductiveClosure(owlrl.OWLRL_Extension, datatype_axioms=True).expand(g)\n",
        "\n",
        "# print(g.serialize(format=\"turtle\"))"
      ]
    },
    {
      "cell_type": "code",
      "execution_count": null,
      "metadata": {
        "id": "CMxSiuO6N0Hh"
      },
      "outputs": [],
      "source": [
        "# Bob knows whom?\n",
        "\n",
        "spql = 'SELECT ?x WHERE { pp:bob foaf:knows ?x .}'\n",
        "res = g.query(spql, initNs={\"foaf\":FOAF, \"pp\":\"http://example.org/people/\" })\n",
        "\n",
        "for row in res:\n",
        "  print(row[\"x\"])"
      ]
    },
    {
      "cell_type": "code",
      "execution_count": null,
      "metadata": {
        "id": "hzkNUpASPBfk"
      },
      "outputs": [],
      "source": [
        "# Is Alice Person?\n",
        "\n",
        "spql = 'ASK { pp:alice a  foaf:Person . }'\n",
        "res = g.query(spql, initNs={\"foaf\":FOAF, \"pp\":\"http://example.org/people/\"})\n",
        "\n",
        "for row in res:\n",
        "  print(row)"
      ]
    },
    {
      "cell_type": "markdown",
      "metadata": {
        "id": "KDSNtvBUTZyf"
      },
      "source": [
        "---\n",
        "# **LET'S CODE !**\n",
        "---"
      ]
    },
    {
      "cell_type": "markdown",
      "metadata": {
        "id": "rEKgF_RTjOfk"
      },
      "source": [
        "## To Create Nodes"
      ]
    },
    {
      "cell_type": "code",
      "execution_count": null,
      "metadata": {
        "id": "LY7RJVWZjU-U"
      },
      "outputs": [],
      "source": [
        "bob = URIRef(\"http://example.org/people/Bob\")"
      ]
    },
    {
      "cell_type": "code",
      "execution_count": null,
      "metadata": {
        "id": "RVthhNbbjax-"
      },
      "outputs": [],
      "source": [
        "bob"
      ]
    },
    {
      "cell_type": "code",
      "execution_count": null,
      "metadata": {
        "id": "cDurTjdwjdn5"
      },
      "outputs": [],
      "source": [
        "linda = BNode()"
      ]
    },
    {
      "cell_type": "code",
      "execution_count": null,
      "metadata": {
        "id": "UNhJfDl3jhaV"
      },
      "outputs": [],
      "source": [
        "linda"
      ]
    },
    {
      "cell_type": "code",
      "execution_count": null,
      "metadata": {
        "id": "AdYQO3SRjncL"
      },
      "outputs": [],
      "source": [
        "name = Literal('Bob')"
      ]
    },
    {
      "cell_type": "code",
      "execution_count": null,
      "metadata": {
        "id": "0zrhng2ojpEv"
      },
      "outputs": [],
      "source": [
        "name"
      ]
    },
    {
      "cell_type": "code",
      "execution_count": null,
      "metadata": {
        "id": "aQI7flc1kaDn"
      },
      "outputs": [],
      "source": [
        "age = Literal(24)"
      ]
    },
    {
      "cell_type": "code",
      "execution_count": null,
      "metadata": {
        "id": "3Ym4RCpkkf60"
      },
      "outputs": [],
      "source": [
        "age"
      ]
    },
    {
      "cell_type": "code",
      "execution_count": null,
      "metadata": {
        "id": "u68CarTOkeyZ"
      },
      "outputs": [],
      "source": [
        "height = Literal(176.5)"
      ]
    },
    {
      "cell_type": "code",
      "execution_count": null,
      "metadata": {
        "id": "gC6aI0l3kiJC"
      },
      "outputs": [],
      "source": [
        "height"
      ]
    },
    {
      "cell_type": "markdown",
      "metadata": {
        "id": "Kx3OstDAkqk-"
      },
      "source": [
        "## To Create Nodes from Namespaces"
      ]
    },
    {
      "cell_type": "code",
      "execution_count": null,
      "metadata": {
        "id": "bkaltnGxkt8y"
      },
      "outputs": [],
      "source": [
        "n = Namespace(\"http://example.org/people/\")"
      ]
    },
    {
      "cell_type": "code",
      "execution_count": null,
      "metadata": {
        "id": "_Uof71r4kyOB"
      },
      "outputs": [],
      "source": [
        "n"
      ]
    },
    {
      "cell_type": "code",
      "execution_count": null,
      "metadata": {
        "id": "1QnyND0-k_By"
      },
      "outputs": [],
      "source": [
        "n.bob"
      ]
    },
    {
      "cell_type": "code",
      "execution_count": null,
      "metadata": {
        "id": "Zc0tcXnmlBpt"
      },
      "outputs": [],
      "source": [
        "n.eve"
      ]
    },
    {
      "cell_type": "code",
      "execution_count": null,
      "metadata": {
        "id": "_NfG55sPlI_W"
      },
      "outputs": [],
      "source": [
        "RDF"
      ]
    },
    {
      "cell_type": "code",
      "execution_count": null,
      "metadata": {
        "id": "JW-2uST3lK_Q"
      },
      "outputs": [],
      "source": [
        "RDF.type"
      ]
    },
    {
      "cell_type": "code",
      "execution_count": null,
      "metadata": {
        "id": "Q8PBKxVolOXj"
      },
      "outputs": [],
      "source": [
        "FOAF.knows"
      ]
    },
    {
      "cell_type": "markdown",
      "metadata": {
        "id": "-ImLjmRrlWSG"
      },
      "source": [
        "## To Create Triples"
      ]
    },
    {
      "cell_type": "code",
      "execution_count": null,
      "metadata": {
        "id": "Oxlt6XACmSJl"
      },
      "outputs": [],
      "source": [
        "pp = Namespace(\"http://example.org/people/\")"
      ]
    },
    {
      "cell_type": "code",
      "execution_count": null,
      "metadata": {
        "id": "RRHpN05Glafw"
      },
      "outputs": [],
      "source": [
        "g = rdflib.Graph()"
      ]
    },
    {
      "cell_type": "code",
      "execution_count": null,
      "metadata": {
        "id": "U9j4yUxsmBZ_"
      },
      "outputs": [],
      "source": [
        "print(g.serialize(format=\"turtle\"))"
      ]
    },
    {
      "cell_type": "code",
      "execution_count": null,
      "metadata": {
        "id": "t-x3A4UclqbA"
      },
      "outputs": [],
      "source": [
        "g.add((pp.bob, RDF.type, FOAF.Person))"
      ]
    },
    {
      "cell_type": "code",
      "execution_count": null,
      "metadata": {
        "id": "DXcvAimzl4Hi"
      },
      "outputs": [],
      "source": [
        "print(g.serialize(format=\"turtle\"))"
      ]
    },
    {
      "cell_type": "code",
      "execution_count": null,
      "metadata": {
        "id": "7SMI9f_5mG_I"
      },
      "outputs": [],
      "source": [
        "g.bind(\"foaf\", FOAF)"
      ]
    },
    {
      "cell_type": "code",
      "execution_count": null,
      "metadata": {
        "id": "zieDPR6Tl47d"
      },
      "outputs": [],
      "source": [
        "print(g.serialize(format=\"turtle\"))"
      ]
    },
    {
      "cell_type": "code",
      "execution_count": null,
      "metadata": {
        "id": "M0fIbhA4msbc"
      },
      "outputs": [],
      "source": [
        "g.bind(\"pp\", pp)"
      ]
    },
    {
      "cell_type": "code",
      "execution_count": null,
      "metadata": {
        "id": "AktT6ElKmwr6"
      },
      "outputs": [],
      "source": [
        "print(g.serialize(format=\"turtle\"))"
      ]
    },
    {
      "cell_type": "code",
      "execution_count": null,
      "metadata": {
        "id": "sFVFlYHNm18W"
      },
      "outputs": [],
      "source": [
        "g.add((pp.bob, FOAF.name, Literal('Bob')))"
      ]
    },
    {
      "cell_type": "code",
      "execution_count": null,
      "metadata": {
        "id": "YwIm2RwXnAEL"
      },
      "outputs": [],
      "source": [
        "print(g.serialize(format=\"turtle\"))"
      ]
    },
    {
      "cell_type": "code",
      "execution_count": null,
      "metadata": {
        "id": "oDkMNQk4nPpy"
      },
      "outputs": [],
      "source": [
        "g.add((pp.bob, FOAF.knows, pp.linda))"
      ]
    },
    {
      "cell_type": "code",
      "execution_count": null,
      "metadata": {
        "id": "-HXny_UknV0U"
      },
      "outputs": [],
      "source": [
        "print(g.serialize(format=\"turtle\"))"
      ]
    },
    {
      "cell_type": "code",
      "execution_count": null,
      "metadata": {
        "id": "GUmlctninhFW"
      },
      "outputs": [],
      "source": [
        "g.add((pp.bob, FOAF.knows, pp.mark))"
      ]
    },
    {
      "cell_type": "code",
      "execution_count": null,
      "metadata": {
        "id": "5VJ2jeMdnkjC"
      },
      "outputs": [],
      "source": [
        "print(g.serialize(format=\"turtle\"))"
      ]
    },
    {
      "cell_type": "markdown",
      "metadata": {
        "id": "y47tAnOfowo8"
      },
      "source": [
        "## To Create a Graph"
      ]
    },
    {
      "cell_type": "code",
      "execution_count": null,
      "metadata": {
        "id": "8saOCnhNnoa1"
      },
      "outputs": [],
      "source": [
        "g = rdflib.Graph()\n",
        "g.bind(\"foaf\", FOAF)\n",
        "g.bind(\"pp\", pp)\n",
        "\n",
        "g.add((pp.bob, RDF.type, FOAF.Person))\n",
        "g.add((pp.bob, FOAF.name, Literal(\"Bob\")))\n",
        "\n",
        "g.add((pp.linda, RDF.type, FOAF.Person))\n",
        "g.add((pp.linda, FOAF.name, Literal(\"Linda\")))\n",
        "\n",
        "g.add((pp.mark, RDF.type, FOAF.Person))\n",
        "g.add((pp.mark, FOAF.name, Literal(\"Mark\")))\n",
        "\n",
        "g.add((pp.bob, FOAF.knows, pp.linda))\n",
        "g.add((pp.bob, FOAF.knows, pp.mark))"
      ]
    },
    {
      "cell_type": "code",
      "execution_count": null,
      "metadata": {
        "id": "1TpX-YaontBM"
      },
      "outputs": [],
      "source": [
        "print(g.serialize(format=\"turtle\"))"
      ]
    },
    {
      "cell_type": "code",
      "execution_count": null,
      "metadata": {
        "id": "b4AxRm5-pbGr"
      },
      "outputs": [],
      "source": [
        "print(g.serialize(format=\"xml\"))"
      ]
    },
    {
      "cell_type": "code",
      "execution_count": null,
      "metadata": {
        "id": "V-3k5UDRphCT"
      },
      "outputs": [],
      "source": [
        "print(g.serialize(format=\"ntriples\"))"
      ]
    },
    {
      "cell_type": "markdown",
      "metadata": {
        "id": "kjb6ttCoo1Sx"
      },
      "source": [
        "# To Create a Graph from String"
      ]
    },
    {
      "cell_type": "code",
      "execution_count": null,
      "metadata": {
        "id": "Y2kUAplJpBr2"
      },
      "outputs": [],
      "source": [
        "g = rdflib.Graph()"
      ]
    },
    {
      "cell_type": "code",
      "execution_count": null,
      "metadata": {
        "id": "Da_55B4dpNBE"
      },
      "outputs": [],
      "source": [
        "print(g.serialize(format=\"turtle\"))"
      ]
    },
    {
      "cell_type": "code",
      "execution_count": null,
      "metadata": {
        "id": "_xHUmBNBo5Jx"
      },
      "outputs": [],
      "source": [
        "rdf_text = '''\n",
        "@prefix foaf: <http://xmlns.com/foaf/0.1/> .\n",
        "@prefix pp: <http://example.org/people/> .\n",
        "\n",
        "pp:bob a foaf:Person ;\n",
        "    foaf:knows pp:linda, pp:mark ;\n",
        "    foaf:name \"Bob\" .\n",
        "\n",
        "pp:linda a foaf:Person ;\n",
        "    foaf:name \"Linda\" .\n",
        "\n",
        "pp:mark foaf:name \"Mark\" .\n",
        "'''"
      ]
    },
    {
      "cell_type": "code",
      "execution_count": null,
      "metadata": {
        "id": "qYADYa1HpNLm"
      },
      "outputs": [],
      "source": [
        "g.parse( data=rdf_text, format='turtle' )"
      ]
    },
    {
      "cell_type": "code",
      "execution_count": null,
      "metadata": {
        "id": "RPKtRQigpURz"
      },
      "outputs": [],
      "source": [
        "print(g.serialize(format=\"turtle\"))"
      ]
    },
    {
      "cell_type": "markdown",
      "metadata": {
        "id": "9f1qyKmovtaM"
      },
      "source": [
        "## To Save a Graph"
      ]
    },
    {
      "cell_type": "code",
      "execution_count": null,
      "metadata": {
        "id": "6pCd7LIQvwR5"
      },
      "outputs": [],
      "source": [
        "rdf_text = '''\n",
        "@prefix foaf: <http://xmlns.com/foaf/0.1/> .\n",
        "@prefix pp: <http://example.org/people/> .\n",
        "\n",
        "pp:bob a foaf:Person ;\n",
        "    foaf:knows pp:linda, pp:mark ;\n",
        "    foaf:name \"Bob\" .\n",
        "\n",
        "pp:linda a foaf:Person ;\n",
        "    foaf:name \"Linda\" .\n",
        "\n",
        "pp:mark foaf:name \"Mark\" .\n",
        "'''\n",
        "\n",
        "g = rdflib.Graph()\n",
        "g.parse( data=rdf_text, format='turtle' )"
      ]
    },
    {
      "cell_type": "code",
      "execution_count": null,
      "metadata": {
        "id": "x9S7lHPiv1_f"
      },
      "outputs": [],
      "source": [
        "g.serialize('my_rdf.ttl',format='turtle')"
      ]
    },
    {
      "cell_type": "markdown",
      "metadata": {
        "id": "f7ScIZllwToO"
      },
      "source": [
        "## To Read a Graph from a File"
      ]
    },
    {
      "cell_type": "code",
      "execution_count": null,
      "metadata": {
        "id": "5MdVfR38q4Qy"
      },
      "outputs": [],
      "source": [
        "g2 = rdflib.Graph()\n",
        "g2.parse(\"my_rdf.ttl\", format='turtle')"
      ]
    },
    {
      "cell_type": "code",
      "execution_count": null,
      "metadata": {
        "id": "8SBF4qp2w2oy"
      },
      "outputs": [],
      "source": [
        "print(g2.serialize(format=\"turtle\"))"
      ]
    },
    {
      "cell_type": "markdown",
      "metadata": {
        "id": "qAMgep6Nq9gg"
      },
      "source": [
        "## To Read a Graph from URL"
      ]
    },
    {
      "cell_type": "code",
      "execution_count": null,
      "metadata": {
        "id": "7Z2-Q-_kwUiT"
      },
      "outputs": [],
      "source": [
        "g = rdflib.Graph()\n",
        "g.parse(\"http://bigasterisk.com/foaf.rdf\")"
      ]
    },
    {
      "cell_type": "code",
      "execution_count": null,
      "metadata": {
        "id": "_HCe_g2mq-s9"
      },
      "outputs": [],
      "source": [
        "print(g.serialize(format=\"turtle\")[:1000], \" ...  and more ...\")"
      ]
    },
    {
      "cell_type": "markdown",
      "metadata": {
        "id": "rhhgqFkBriRw"
      },
      "source": [
        "## To Load a Graph from a Resource"
      ]
    },
    {
      "cell_type": "code",
      "execution_count": null,
      "metadata": {
        "id": "u_ZTgPmbrqD7"
      },
      "outputs": [],
      "source": [
        "g = rdflib.Graph()\n",
        "g.parse('http://dbpedia.org/resource/IPhone_12_Pro')"
      ]
    },
    {
      "cell_type": "code",
      "execution_count": null,
      "metadata": {
        "id": "9fdQ0betrre9"
      },
      "outputs": [],
      "source": [
        "print(g.serialize(format=\"turtle\")[:1000])\n",
        "print(\" ... \")\n",
        "print(\" ... \")\n",
        "print(\" ... \")\n",
        "print(g.serialize(format=\"turtle\")[-500:])"
      ]
    },
    {
      "cell_type": "markdown",
      "metadata": {
        "id": "0gW9c5IGsnpl"
      },
      "source": [
        "## To Read each Triple from a Graph"
      ]
    },
    {
      "cell_type": "code",
      "execution_count": null,
      "metadata": {
        "id": "8sDiNELAts0e"
      },
      "outputs": [],
      "source": [
        "rdf_text = '''\n",
        "@prefix foaf: <http://xmlns.com/foaf/0.1/> .\n",
        "@prefix pp: <http://example.org/people/> .\n",
        "\n",
        "pp:bob a foaf:Person ;\n",
        "    foaf:knows pp:linda, pp:mark ;\n",
        "    foaf:name \"Bob\" .\n",
        "\n",
        "pp:linda a foaf:Person ;\n",
        "    foaf:name \"Linda\" .\n",
        "\n",
        "pp:mark foaf:name \"Mark\" .\n",
        "'''\n",
        "\n",
        "g = rdflib.Graph()\n",
        "g.parse( data=rdf_text, format='turtle' )"
      ]
    },
    {
      "cell_type": "code",
      "execution_count": null,
      "metadata": {
        "id": "8hp10QDHt3qr"
      },
      "outputs": [],
      "source": [
        "print(g.serialize(format=\"turtle\"))"
      ]
    },
    {
      "cell_type": "code",
      "execution_count": null,
      "metadata": {
        "id": "8j1Prg675Te9"
      },
      "outputs": [],
      "source": [
        "for s, p, o in g:\n",
        "    print(s,p,o)"
      ]
    },
    {
      "cell_type": "markdown",
      "metadata": {
        "id": "D9tbE1RDxE-H"
      },
      "source": [
        "## Basic Query"
      ]
    },
    {
      "cell_type": "code",
      "execution_count": null,
      "metadata": {
        "id": "alBiHZYBxHlZ"
      },
      "outputs": [],
      "source": [
        "rdf_text = '''\n",
        "@prefix foaf: <http://xmlns.com/foaf/0.1/> .\n",
        "@prefix pp: <http://example.org/people/> .\n",
        "\n",
        "pp:bob a foaf:Person ;\n",
        "    foaf:knows pp:linda, pp:mark ;\n",
        "    foaf:name \"Bob\" .\n",
        "\n",
        "pp:linda a foaf:Person ;\n",
        "    foaf:name \"Linda\" .\n",
        "\n",
        "pp:mark foaf:name \"Mark\" .\n",
        "'''\n",
        "\n",
        "g = rdflib.Graph()\n",
        "g.parse( data=rdf_text, format='turtle' )"
      ]
    },
    {
      "cell_type": "code",
      "execution_count": null,
      "metadata": {
        "id": "YgVDgbxyxNyP"
      },
      "outputs": [],
      "source": [
        "print(g.serialize(format=\"turtle\"))"
      ]
    },
    {
      "cell_type": "code",
      "execution_count": null,
      "metadata": {
        "id": "qcd_FonsxZS7"
      },
      "outputs": [],
      "source": [
        "res = g.query('SELECT ?s ?p ?o WHERE { ?s ?p ?o .}')"
      ]
    },
    {
      "cell_type": "code",
      "execution_count": null,
      "metadata": {
        "id": "Srs5txVeyEqo"
      },
      "outputs": [],
      "source": [
        "res"
      ]
    },
    {
      "cell_type": "code",
      "execution_count": null,
      "metadata": {
        "id": "YCmUuhnJzNOv"
      },
      "outputs": [],
      "source": [
        "for row in res:\n",
        "  print(row)"
      ]
    },
    {
      "cell_type": "code",
      "execution_count": null,
      "metadata": {
        "id": "p5YzrwO00QWj"
      },
      "outputs": [],
      "source": [
        "for row in res:\n",
        "  print(row[0], row[1], row[2])"
      ]
    },
    {
      "cell_type": "code",
      "execution_count": null,
      "metadata": {
        "id": "lcNFWthocEMT"
      },
      "outputs": [],
      "source": [
        "for row in res:\n",
        "  print(row[\"s\"], row[\"p\"], row[\"o\"])"
      ]
    },
    {
      "cell_type": "code",
      "execution_count": null,
      "metadata": {
        "id": "zh6I3G0HzTmV"
      },
      "outputs": [],
      "source": [
        "for row in res:\n",
        "  s, p, o = row\n",
        "  print(s, p, o)"
      ]
    },
    {
      "cell_type": "code",
      "execution_count": null,
      "metadata": {
        "id": "w_6qxGjnzoyu"
      },
      "outputs": [],
      "source": [
        "spql = 'SELECT ?o WHERE { ?s foaf:knows ?o .}'\n",
        "\n",
        "res = g.query(spql, initNs={\"foaf\":FOAF})"
      ]
    },
    {
      "cell_type": "code",
      "execution_count": null,
      "metadata": {
        "id": "Pqg-9Y72zxUp"
      },
      "outputs": [],
      "source": [
        "for row in res:\n",
        "  print(row[0])"
      ]
    },
    {
      "cell_type": "markdown",
      "metadata": {
        "id": "A1HWtgpvFmjM"
      },
      "source": [
        "## Advanced Semantic Technology"
      ]
    },
    {
      "cell_type": "markdown",
      "metadata": {
        "id": "yKTvOK9EaG7E"
      },
      "source": [
        "### Ontology Preparation"
      ]
    },
    {
      "cell_type": "code",
      "execution_count": 3,
      "metadata": {
        "colab": {
          "base_uri": "https://localhost:8080/"
        },
        "id": "a04aGhPwFrit",
        "outputId": "d0983323-bc67-4639-f00e-7cef999f2e3e"
      },
      "outputs": [
        {
          "data": {
            "text/plain": [
              "<Graph identifier=N074b5babc2024da29c2bfaac4ab00160 (<class 'rdflib.graph.Graph'>)>"
            ]
          },
          "execution_count": 3,
          "metadata": {},
          "output_type": "execute_result"
        }
      ],
      "source": [
        "my_abox_text = '''\n",
        "@prefix foaf: <http://xmlns.com/foaf/0.1/> .\n",
        "@prefix pp: <http://example.org/people/> .\n",
        "\n",
        "pp:bob a foaf:Person ;\n",
        "    foaf:knows pp:linda, pp:mark ;\n",
        "    foaf:name \"Bob\" .\n",
        "\n",
        "pp:linda a foaf:Person ;\n",
        "    foaf:name \"Linda\" .\n",
        "\n",
        "pp:mark foaf:name \"Mark\" .\n",
        "'''\n",
        "\n",
        "my_abox = rdflib.Graph()\n",
        "my_abox.parse( data=my_abox_text, format='turtle' )"
      ]
    },
    {
      "cell_type": "code",
      "execution_count": 4,
      "metadata": {
        "colab": {
          "base_uri": "https://localhost:8080/"
        },
        "id": "5x4VJzS_XMYc",
        "outputId": "85f041fa-f64f-4f13-8811-a2b88c988522"
      },
      "outputs": [
        {
          "data": {
            "text/plain": [
              "<Graph identifier=N1f3f730db56349ed81ceb6f8024d9017 (<class 'rdflib.graph.Graph'>)>"
            ]
          },
          "execution_count": 4,
          "metadata": {},
          "output_type": "execute_result"
        }
      ],
      "source": [
        "my_tbox_text = '''\n",
        "@prefix rdf: <http://www.w3.org/1999/02/22-rdf-syntax-ns#> .\n",
        "@prefix foaf: <http://xmlns.com/foaf/0.1/> .\n",
        "@prefix owl: <http://www.w3.org/2002/07/owl#> .\n",
        "@prefix rdfs: <http://www.w3.org/2000/01/rdf-schema#> .\n",
        "\n",
        "foaf:Person rdfs:subClassOf foaf:Agent .\n",
        "\n",
        "foaf:knows rdf:type owl:SymmetricProperty .\n",
        "foaf:knows rdfs:domain foaf:Person .\n",
        "foaf:knows rdfs:range foaf:Person .\n",
        "\n",
        "'''\n",
        "\n",
        "my_tbox = rdflib.Graph()\n",
        "my_tbox.parse( data=my_tbox_text, format='turtle' )"
      ]
    },
    {
      "cell_type": "code",
      "execution_count": null,
      "metadata": {
        "colab": {
          "base_uri": "https://localhost:8080/"
        },
        "id": "NGPYl-xrYe7A",
        "outputId": "f823c6f1-5e62-4884-8f3b-d3e63978cdd3"
      },
      "outputs": [],
      "source": [
        "print(my_abox.serialize(format=\"turtle\"))"
      ]
    },
    {
      "cell_type": "code",
      "execution_count": null,
      "metadata": {
        "colab": {
          "base_uri": "https://localhost:8080/"
        },
        "id": "a_YeXL4SYgni",
        "outputId": "ec0092f9-47aa-4d66-f63d-d7bc3b5f65b3"
      },
      "outputs": [],
      "source": [
        "print(my_tbox.serialize(format=\"turtle\"))"
      ]
    },
    {
      "cell_type": "code",
      "execution_count": null,
      "metadata": {
        "id": "21nthwdiaQOF"
      },
      "outputs": [],
      "source": [
        "g = my_tbox + my_abox"
      ]
    },
    {
      "cell_type": "code",
      "execution_count": null,
      "metadata": {
        "colab": {
          "base_uri": "https://localhost:8080/"
        },
        "id": "ofQBH477aT4Z",
        "outputId": "9ddd05b3-7aaa-4aa5-817e-3885cd8e15a0"
      },
      "outputs": [],
      "source": [
        "print(g.serialize(format=\"turtle\"))"
      ]
    },
    {
      "cell_type": "markdown",
      "metadata": {
        "id": "0Z18EHh0aZNL"
      },
      "source": [
        "### Try to Query"
      ]
    },
    {
      "cell_type": "code",
      "execution_count": null,
      "metadata": {
        "colab": {
          "base_uri": "https://localhost:8080/"
        },
        "id": "8NQLPcQ9afF9",
        "outputId": "9a7420b4-f692-4780-e92a-802f7b12c4a1"
      },
      "outputs": [],
      "source": [
        "# Type of Bob\n",
        "\n",
        "spql = 'SELECT * WHERE { pp:bob rdf:type ?o .}'\n",
        "res = g.query(spql, initNs={\"foaf\":FOAF, \"pp\":pp})\n",
        "\n",
        "for row in res:\n",
        "  print(row)"
      ]
    },
    {
      "cell_type": "code",
      "execution_count": null,
      "metadata": {
        "colab": {
          "base_uri": "https://localhost:8080/"
        },
        "id": "Oilg5DcsawmF",
        "outputId": "3a52fa89-8385-4df7-bdea-7ef7bc0e5a96"
      },
      "outputs": [],
      "source": [
        "# Who are People?\n",
        "\n",
        "spql = 'SELECT * WHERE { ?x rdf:type foaf:Person .}'\n",
        "res = g.query(spql, initNs={\"foaf\":FOAF, \"pp\":pp})\n",
        "\n",
        "for row in res:\n",
        "  print(row)"
      ]
    },
    {
      "cell_type": "code",
      "execution_count": null,
      "metadata": {
        "colab": {
          "base_uri": "https://localhost:8080/"
        },
        "id": "PPcA3m2ybDtF",
        "outputId": "6639d03a-8202-4b72-b64d-43980e0ac94d"
      },
      "outputs": [],
      "source": [
        "# Who nows whom?\n",
        "\n",
        "spql = 'SELECT * WHERE { ?x foaf:knows ?y .}'\n",
        "res = g.query(spql, initNs={\"foaf\":FOAF, \"pp\":pp})\n",
        "\n",
        "for row in res:\n",
        "  print(row)"
      ]
    },
    {
      "cell_type": "markdown",
      "metadata": {
        "id": "_I_Ve-2HLPMu"
      },
      "source": [
        "### RDFS Reasoning\n",
        "\n"
      ]
    },
    {
      "cell_type": "code",
      "execution_count": null,
      "metadata": {
        "id": "Niy9k81VGZLO"
      },
      "outputs": [],
      "source": [
        "owlrl.DeductiveClosure(owlrl.RDFS_Semantics, datatype_axioms=True).expand(g)"
      ]
    },
    {
      "cell_type": "code",
      "execution_count": null,
      "metadata": {
        "colab": {
          "base_uri": "https://localhost:8080/"
        },
        "id": "pf_Giku3JIkt",
        "outputId": "9d521daa-7646-4d81-fa01-9bdf25e2565f"
      },
      "outputs": [],
      "source": [
        "# Type of Bob\n",
        "\n",
        "spql = 'SELECT ?o WHERE { pp:bob rdf:type ?o .}'\n",
        "res = g.query(spql, initNs={\"foaf\":FOAF, \"pp\":pp})\n",
        "\n",
        "for row in res:\n",
        "  print(row)"
      ]
    },
    {
      "cell_type": "code",
      "execution_count": null,
      "metadata": {
        "colab": {
          "base_uri": "https://localhost:8080/"
        },
        "id": "u2HUEPGfLn_v",
        "outputId": "86534438-777b-4fa9-8a68-8ce70818fad9"
      },
      "outputs": [],
      "source": [
        "# Who are Person?\n",
        "\n",
        "spql = 'SELECT ?x WHERE { ?x rdf:type foaf:Person .}'\n",
        "res = g.query(spql, initNs={\"foaf\":FOAF, \"pp\":pp})\n",
        "\n",
        "for row in res:\n",
        "  print(row[0])"
      ]
    },
    {
      "cell_type": "code",
      "execution_count": null,
      "metadata": {
        "colab": {
          "base_uri": "https://localhost:8080/"
        },
        "id": "BzuX6fbNMlvr",
        "outputId": "f5a7dbd4-074d-4491-fa8a-0dc41805bce2"
      },
      "outputs": [],
      "source": [
        "# Who nows whom?\n",
        "\n",
        "spql = 'SELECT * WHERE { ?x foaf:knows ?y.}'\n",
        "res = g.query(spql, initNs={\"foaf\":FOAF, \"pp\":pp})\n",
        "\n",
        "for row in res:\n",
        "  print(row)"
      ]
    },
    {
      "cell_type": "markdown",
      "metadata": {
        "id": "Gaq0LPxLbyZj"
      },
      "source": [
        "### OWL Reasoning"
      ]
    },
    {
      "cell_type": "code",
      "execution_count": null,
      "metadata": {
        "id": "Paz_TbyFNyZn"
      },
      "outputs": [],
      "source": [
        "owlrl.DeductiveClosure(owlrl.OWLRL_Extension).expand(g)"
      ]
    },
    {
      "cell_type": "code",
      "execution_count": null,
      "metadata": {
        "colab": {
          "base_uri": "https://localhost:8080/"
        },
        "id": "OjrrBiTDb26N",
        "outputId": "c921bef0-6abc-4c69-fd94-c11a5d6b9028"
      },
      "outputs": [],
      "source": [
        "# Who nows whom?\n",
        "\n",
        "spql = 'SELECT * WHERE { ?x foaf:knows ?y.}'\n",
        "res = g.query(spql, initNs={\"foaf\":FOAF, \"pp\":pp})\n",
        "\n",
        "for row in res:\n",
        "  print(row)"
      ]
    },
    {
      "cell_type": "markdown",
      "metadata": {
        "id": "1L4_d_CAcgrf"
      },
      "source": [
        "## Pratical Example"
      ]
    },
    {
      "cell_type": "markdown",
      "metadata": {
        "id": "JzrhSFpKkzjl"
      },
      "source": [
        "### Select Well-known Ontologies"
      ]
    },
    {
      "cell_type": "code",
      "execution_count": null,
      "metadata": {
        "id": "IdyHq0r3cojs"
      },
      "outputs": [],
      "source": [
        "dc_onto = rdflib.Graph().parse(\"https://www.dublincore.org/specifications/dublin-core/dcmi-terms/dublin_core_terms.ttl\", format=\"turtle\")\n",
        "foaf_onto = rdflib.Graph().parse(\"http://xmlns.com/foaf/0.1/index.rdf\", format=\"xml\")\n",
        "skos_onto = rdflib.Graph().parse(\"http://www.w3.org/TR/skos-reference/skos.rdf\", format=\"xml\")\n"
      ]
    },
    {
      "cell_type": "code",
      "execution_count": null,
      "metadata": {
        "colab": {
          "base_uri": "https://localhost:8080/"
        },
        "id": "VMHEjMuGdvGC",
        "outputId": "a24af97b-c8f0-4a0c-8ae5-030d1922a708"
      },
      "outputs": [],
      "source": [
        "print(\"DC --> ....\", dc_onto.serialize(format=\"turtle\")[500:800], \" ... and more ...\")\n",
        "print(\"--------------------------------\")\n",
        "print(\"FOAF --> ....\", foaf_onto.serialize(format=\"turtle\")[500:800], \" ... and more ...\")\n",
        "print(\"--------------------------------\")\n",
        "print(\"SKOS --> ....\", skos_onto.serialize(format=\"turtle\")[500:800], \" ... and more ...\")"
      ]
    },
    {
      "cell_type": "markdown",
      "metadata": {
        "id": "4pHCxAmPk5rC"
      },
      "source": [
        "### Create your Customed Ontology"
      ]
    },
    {
      "cell_type": "code",
      "execution_count": null,
      "metadata": {
        "colab": {
          "base_uri": "https://localhost:8080/"
        },
        "id": "ozPsIT6xg4M3",
        "outputId": "e478ef47-82cf-4f9f-d215-f4d141445f2a"
      },
      "outputs": [],
      "source": [
        "rc_onto_text = '''\n",
        "@prefix rc: <http://rathachai.ch/rc/0.1/> .\n",
        "@prefix owl: <http://www.w3.org/2002/07/owl#> .\n",
        "@prefix rdfs: <http://www.w3.org/2000/01/rdf-schema#> .\n",
        "@prefix dcterms: <http://purl.org/dc/terms/> .\n",
        "@prefix foaf: <http://xmlns.com/foaf/0.1/> .\n",
        "\n",
        "\n",
        "rc:write rdfs:domain foaf:Person .\n",
        "rc:write rdfs:range foaf:Document .\n",
        "rc:write owl:inverseOf rc:writtenBy .\n",
        "rc:write rdfs:subPropertyOf dcterms:creator .\n",
        "'''\n",
        "\n",
        "rc_onto = rdflib.Graph().parse( data=rc_onto_text, format='turtle' )\n",
        "print(\"RC ONTO --> ....\",rc_onto.serialize(format=\"turtle\"))"
      ]
    },
    {
      "cell_type": "markdown",
      "metadata": {
        "id": "Rcj7m1Jtk_lH"
      },
      "source": [
        "### Create your RDF Data"
      ]
    },
    {
      "cell_type": "code",
      "execution_count": null,
      "metadata": {
        "colab": {
          "base_uri": "https://localhost:8080/"
        },
        "id": "kdLl4Yu1eP6u",
        "outputId": "1b0b9b5a-c70f-4c59-c975-a13506680f92"
      },
      "outputs": [],
      "source": [
        "my_abox_text = '''\n",
        "@prefix rdf: <http://www.w3.org/1999/02/22-rdf-syntax-ns#> .\n",
        "@prefix owl: <http://www.w3.org/2002/07/owl#> .\n",
        "@prefix skos: <http://www.w3.org/2004/02/skos/core#> .\n",
        "@prefix dcam: <http://purl.org/dc/dcam/> .\n",
        "@prefix dcterms: <http://purl.org/dc/terms/> .\n",
        "@prefix rdfs: <http://www.w3.org/2000/01/rdf-schema#> .\n",
        "@prefix foaf: <http://xmlns.com/foaf/0.1/> .\n",
        "\n",
        "@prefix rc: <http://rathachai.ch/rc/0.1/> .\n",
        "\n",
        "@prefix pp: <http://example.org/people/> .\n",
        "@prefix ex: <http://example.org/> .\n",
        "\n",
        "\n",
        "\n",
        "pp:jkrowling rc:write ex:harry_potter .\n",
        "\n",
        "ex:harry_potter skos:broaderTransitive ex:Fantacy .\n",
        "ex:Fantacy skos:broaderTransitive ex:Story .\n",
        "\n",
        "'''\n",
        "\n",
        "my_abox = rdflib.Graph().parse( data=my_abox_text, format='turtle' )\n",
        "print(my_abox.serialize(format=\"turtle\"))"
      ]
    },
    {
      "cell_type": "markdown",
      "metadata": {
        "id": "nnZRWEhVlDEp"
      },
      "source": [
        "### Combine data and ontologies"
      ]
    },
    {
      "cell_type": "code",
      "execution_count": null,
      "metadata": {
        "id": "W9v9eQjqkk--"
      },
      "outputs": [],
      "source": [
        "g = dc_onto + foaf_onto + skos_onto + rc_onto + my_abox"
      ]
    },
    {
      "cell_type": "markdown",
      "metadata": {
        "id": "E5L6DSxplMa8"
      },
      "source": [
        "### Deductive Closure"
      ]
    },
    {
      "cell_type": "code",
      "execution_count": null,
      "metadata": {
        "id": "acXHdKJ0lJtk"
      },
      "outputs": [],
      "source": [
        "owlrl.DeductiveClosure(owlrl.RDFS_Semantics, datatype_axioms=True).expand(g)\n",
        "owlrl.DeductiveClosure(owlrl.OWLRL_Extension, datatype_axioms=True).expand(g)"
      ]
    },
    {
      "cell_type": "markdown",
      "metadata": {
        "id": "628vAJGRv-MS"
      },
      "source": [
        "### Query"
      ]
    },
    {
      "cell_type": "code",
      "execution_count": null,
      "metadata": {
        "colab": {
          "base_uri": "https://localhost:8080/"
        },
        "id": "uG4a77k5kuyv",
        "outputId": "93c26bd4-ef86-487b-a8fb-ce30b450d18f"
      },
      "outputs": [],
      "source": [
        "# What is Harry Potter?\n",
        "\n",
        "spql = 'SELECT ?p ?o WHERE { ex:harry_potter ?p ?o.}'\n",
        "res = g.query(spql, initNs={\"foaf\":FOAF, \"pp\":pp, \"ex\":\"http://example.org/\"})\n",
        "\n",
        "for row in res:\n",
        "  print(row[\"p\"], row[\"o\"])"
      ]
    },
    {
      "cell_type": "code",
      "execution_count": null,
      "metadata": {
        "colab": {
          "base_uri": "https://localhost:8080/"
        },
        "id": "E1_uFzkYxcBL",
        "outputId": "7fbc86a6-d69c-4a52-da2c-7817a4076596"
      },
      "outputs": [],
      "source": [
        "# What is JK Rowling?\n",
        "\n",
        "spql = 'SELECT ?p ?o WHERE { pp:jkrowling ?p ?o.}'\n",
        "res = g.query(spql, initNs={\"foaf\":FOAF, \"pp\":pp, \"ex\":\"http://example.org/\"})\n",
        "\n",
        "for row in res:\n",
        "  print(row[\"p\"], row[\"o\"])"
      ]
    },
    {
      "cell_type": "markdown",
      "metadata": {
        "id": "Qt0n7CcgyPYT"
      },
      "source": [
        "## To Query with well-known Terms"
      ]
    },
    {
      "cell_type": "code",
      "execution_count": null,
      "metadata": {
        "colab": {
          "base_uri": "https://localhost:8080/"
        },
        "id": "ahjMWkuHxtD-",
        "outputId": "0607e919-2402-4867-8afb-ef5b0c81914c"
      },
      "outputs": [],
      "source": [
        "# Who are Person?\n",
        "\n",
        "spql = 'SELECT ?x WHERE { ?x a foaf:Person .}'\n",
        "res = g.query(spql, initNs={\"foaf\":FOAF, \"pp\":pp, \"ex\":\"http://example.org/\"})\n",
        "\n",
        "for row in res:\n",
        "  print(row[\"x\"])"
      ]
    },
    {
      "cell_type": "code",
      "execution_count": null,
      "metadata": {
        "colab": {
          "base_uri": "https://localhost:8080/"
        },
        "id": "bwDJJ6y3yHWC",
        "outputId": "d6f250eb-9130-4cac-804e-da127d829be4"
      },
      "outputs": [],
      "source": [
        "# What are Documents?\n",
        "\n",
        "spql = 'SELECT ?x WHERE { ?x a foaf:Document .}'\n",
        "res = g.query(spql, initNs={\"foaf\":FOAF, \"pp\":pp, \"ex\":\"http://example.org/\"})\n",
        "\n",
        "for row in res:\n",
        "  print(row[\"x\"])"
      ]
    },
    {
      "cell_type": "code",
      "execution_count": null,
      "metadata": {
        "colab": {
          "base_uri": "https://localhost:8080/"
        },
        "id": "k9W_pYg7ycn2",
        "outputId": "edafdd37-6f9b-464e-83c2-eac328ea0f06"
      },
      "outputs": [],
      "source": [
        "# Who write what?\n",
        "\n",
        "spql = 'SELECT ?x ?y WHERE { ?x dcterms:creator ?y .}'\n",
        "res = g.query(spql, initNs={\"foaf\":FOAF, \"pp\":pp, \"ex\":\"http://example.org/\", \"dcterms\":DCTERMS})\n",
        "\n",
        "for row in res:\n",
        "  print(row[\"x\"], row[\"y\"])"
      ]
    },
    {
      "cell_type": "code",
      "execution_count": null,
      "metadata": {
        "colab": {
          "base_uri": "https://localhost:8080/"
        },
        "id": "H1J7h9N5zju_",
        "outputId": "ef3bb0bf-2f16-42d3-958d-e16c45e3c107"
      },
      "outputs": [],
      "source": [
        "# What are boader Concepts of harry potter\n",
        "\n",
        "spql = 'SELECT ?x WHERE { ex:harry_potter skos:broaderTransitive ?x .}'\n",
        "res = g.query(spql, initNs={\"foaf\":FOAF, \"pp\":pp, \"ex\":\"http://example.org/\", \"dcterms\":DCTERMS, \"skos\":SKOS})\n",
        "\n",
        "for row in res:\n",
        "  print(row[\"x\"])"
      ]
    },
    {
      "cell_type": "code",
      "execution_count": null,
      "metadata": {
        "colab": {
          "base_uri": "https://localhost:8080/"
        },
        "id": "D9vUfwG70Vl8",
        "outputId": "559f8c2e-cf9b-43b7-e01e-6818ea5f01d3"
      },
      "outputs": [],
      "source": [
        "# What are boader Concepts of Fantacy\n",
        "\n",
        "spql = 'SELECT ?x WHERE { ex:Fantacy skos:broaderTransitive ?x .}'\n",
        "res = g.query(spql, initNs={\"foaf\":FOAF, \"pp\":pp, \"ex\":\"http://example.org/\", \"dcterms\":DCTERMS, \"skos\":SKOS})\n",
        "\n",
        "for row in res:\n",
        "  print(row[\"x\"])"
      ]
    },
    {
      "cell_type": "code",
      "execution_count": null,
      "metadata": {
        "colab": {
          "base_uri": "https://localhost:8080/"
        },
        "id": "MX521RH10CbZ",
        "outputId": "4ed90dcd-7d83-42fb-e7f5-1b37a72ee213"
      },
      "outputs": [],
      "source": [
        "# What are narrower Concepts of Fantacy\n",
        "\n",
        "spql = 'SELECT ?x WHERE { ex:Fantacy skos:narrowerTransitive ?x .}'\n",
        "res = g.query(spql, initNs={\"foaf\":FOAF, \"pp\":pp, \"ex\":\"http://example.org/\", \"dcterms\":DCTERMS, \"skos\":SKOS})\n",
        "\n",
        "for row in res:\n",
        "  print(row[\"x\"])"
      ]
    },
    {
      "cell_type": "code",
      "execution_count": null,
      "metadata": {
        "colab": {
          "base_uri": "https://localhost:8080/"
        },
        "id": "qD5gIPmG0J1U",
        "outputId": "09c3f3ae-898c-4db8-a830-3e5816a63180"
      },
      "outputs": [],
      "source": [
        "# What are narrower Concepts of Story\n",
        "\n",
        "spql = 'SELECT ?x WHERE { ex:Story skos:narrowerTransitive ?x .}'\n",
        "res = g.query(spql, initNs={\"foaf\":FOAF, \"pp\":pp, \"ex\":\"http://example.org/\", \"dcterms\":DCTERMS, \"skos\":SKOS})\n",
        "\n",
        "for row in res:\n",
        "  print(row[\"x\"])"
      ]
    },
    {
      "cell_type": "code",
      "execution_count": null,
      "metadata": {
        "colab": {
          "base_uri": "https://localhost:8080/"
        },
        "id": "yLq3NKYp6Nj3",
        "outputId": "cb8a377c-7ddd-4413-d80a-8a34b81f1477"
      },
      "outputs": [],
      "source": [
        "# ASK\n",
        "\n",
        "spql = 'ASK {ex:harry_potter skos:broaderTransitive ex:Story .}'\n",
        "res = g.query(spql, initNs={\"foaf\":FOAF, \"pp\":pp, \"ex\":\"http://example.org/\", \"dcterms\":DCTERMS, \"skos\":SKOS})\n",
        "\n",
        "for row in res:\n",
        "  print(row)"
      ]
    },
    {
      "cell_type": "markdown",
      "metadata": {
        "id": "RokMyGlC1tHT"
      },
      "source": [
        "## To Query from other SPARQL Endpoints"
      ]
    },
    {
      "cell_type": "code",
      "execution_count": null,
      "metadata": {
        "id": "LiLGVbIu-1uK"
      },
      "outputs": [],
      "source": [
        "ns = '''\n",
        "PREFIX owl: <http://www.w3.org/2002/07/owl#> \n",
        "PREFIX xsd: <http://www.w3.org/2001/XMLSchema#> \n",
        "PREFIX rdfs: <http://www.w3.org/2000/01/rdf-schema#> \n",
        "PREFIX rdf: <http://www.w3.org/1999/02/22-rdf-syntax-ns#> \n",
        "PREFIX foaf: <http://xmlns.com/foaf/0.1/> \n",
        "PREFIX dc: <http://purl.org/dc/elements/1.1/> \n",
        "PREFIX : <http://dbpedia.org/resource/> \n",
        "PREFIX ont: <http://dbpedia.org/ontology/>\n",
        "PREFIX dbpedia2: <http://dbpedia.org/property/> \n",
        "PREFIX dbpedia: <http://dbpedia.org/> \n",
        "PREFIX skos: <http://www.w3.org/2004/02/skos/core#> \n",
        "'''"
      ]
    },
    {
      "cell_type": "code",
      "execution_count": null,
      "metadata": {
        "id": "1E7i35xw5T_u"
      },
      "outputs": [],
      "source": [
        "sparql = SPARQLWrapper(\"http://dbpedia.org/sparql\")"
      ]
    },
    {
      "cell_type": "code",
      "execution_count": null,
      "metadata": {
        "colab": {
          "base_uri": "https://localhost:8080/"
        },
        "id": "w1rz1aED1yfw",
        "outputId": "1b47bc52-2c3f-4ba5-9b7f-d77481504e1a"
      },
      "outputs": [],
      "source": [
        "sparql.setQuery(\"\"\"\n",
        "PREFIX ont: <http://dbpedia.org/ontology/>\n",
        "\n",
        "SELECT ?a \n",
        "WHERE {<http://dbpedia.org/resource/Apple_Inc.> ont:product ?a }\n",
        "\n",
        "\"\"\")\n",
        "sparql.setReturnFormat(JSON)\n",
        "results = sparql.query().convert()\n",
        "\n",
        "print('JSON Result:', results)\n",
        "\n",
        "print('--------------------------')\n",
        "print()\n",
        "print('For Loop Results')\n",
        "\n",
        "for result in results[\"results\"][\"bindings\"]:\n",
        "    print(result[\"a\"][\"value\"])"
      ]
    },
    {
      "cell_type": "code",
      "execution_count": null,
      "metadata": {
        "colab": {
          "base_uri": "https://localhost:8080/"
        },
        "id": "xtxNGRp29NnL",
        "outputId": "01dde81e-99b8-4bc8-a1fb-cc3fc1f2fed6"
      },
      "outputs": [],
      "source": [
        "sparql.setQuery(\"\"\"\n",
        "PREFIX ont: <http://dbpedia.org/ontology/>\n",
        "\n",
        "SELECT ?a \n",
        "WHERE {\n",
        "  <http://dbpedia.org/resource/Apple_Inc.> ont:product ?a . \n",
        "  ?a ont:operatingSystem <http://dbpedia.org/resource/IOS> .\n",
        "  }\n",
        "\n",
        "\"\"\")\n",
        "sparql.setReturnFormat(JSON)\n",
        "results = sparql.query().convert()\n",
        "\n",
        "for result in results[\"results\"][\"bindings\"]:\n",
        "    print(result[\"a\"][\"value\"])"
      ]
    },
    {
      "cell_type": "code",
      "execution_count": null,
      "metadata": {
        "colab": {
          "base_uri": "https://localhost:8080/"
        },
        "id": "8KnYUvBI-Jtj",
        "outputId": "bfb1b9d2-1210-48b1-a0dc-f1c6dd4e83c8"
      },
      "outputs": [],
      "source": [
        "sparql.setQuery(\"\"\"\n",
        "PREFIX ont: <http://dbpedia.org/ontology/>\n",
        "\n",
        "ASK {\n",
        "  <http://dbpedia.org/resource/Apple_Inc.> ont:product <http://dbpedia.org/resource/IPhone> . \n",
        "  }\n",
        "\n",
        "\"\"\")\n",
        "sparql.setReturnFormat(JSON)\n",
        "results = sparql.query().convert()\n",
        "\n",
        "print(results[\"boolean\"])"
      ]
    },
    {
      "cell_type": "code",
      "execution_count": null,
      "metadata": {
        "colab": {
          "base_uri": "https://localhost:8080/"
        },
        "id": "TdIOe-BC5eeG",
        "outputId": "0beb44c4-0758-4f9d-a221-505804e53f58"
      },
      "outputs": [],
      "source": [
        "sparql.setQuery(\"\"\"\n",
        "PREFIX ont: <http://dbpedia.org/ontology/>\n",
        "\n",
        "CONSTRUCT { <http://dbpedia.org/resource/Apple_Inc.> ont:product ?a . }\n",
        "WHERE {<http://dbpedia.org/resource/Apple_Inc.> ont:product ?a }\n",
        "\n",
        "\"\"\")\n",
        "sparql.setReturnFormat(TURTLE)\n",
        "results = sparql.query().convert()\n",
        "\n",
        "g = rdflib.Graph().parse(data=results, format=\"turtle\")\n",
        "\n",
        "print(g.serialize(format=\"turtle\"))"
      ]
    },
    {
      "cell_type": "markdown",
      "metadata": {
        "id": "kI4zsqR0_ZS2"
      },
      "source": [
        "\n",
        "\n",
        "---\n",
        "https://rathachai.creatier.pro/\n",
        "\n",
        "## つづく"
      ]
    }
  ],
  "metadata": {
    "colab": {
      "provenance": []
    },
    "kernelspec": {
      "display_name": "Python 3",
      "name": "python3"
    },
    "language_info": {
      "codemirror_mode": {
        "name": "ipython",
        "version": 3
      },
      "file_extension": ".py",
      "mimetype": "text/x-python",
      "name": "python",
      "nbconvert_exporter": "python",
      "pygments_lexer": "ipython3",
      "version": "3.9.13"
    }
  },
  "nbformat": 4,
  "nbformat_minor": 0
}
