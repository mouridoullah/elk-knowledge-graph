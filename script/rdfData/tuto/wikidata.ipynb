{
  "cells": [
    {
      "attachments": {},
      "cell_type": "markdown",
      "metadata": {},
      "source": [
        "## Import"
      ]
    },
    {
      "cell_type": "code",
      "execution_count": null,
      "metadata": {},
      "outputs": [],
      "source": [
        "from SPARQLWrapper import SPARQLWrapper, JSON\n",
        "import requests"
      ]
    },
    {
      "attachments": {},
      "cell_type": "markdown",
      "metadata": {},
      "source": [
        "## Get cityID"
      ]
    },
    {
      "cell_type": "code",
      "execution_count": null,
      "metadata": {},
      "outputs": [],
      "source": [
        "def get_city_id(city):\n",
        "    response = requests.get(f'https://www.wikidata.org/w/api.php?action=wbgetentities&sites=frwiki&titles={city}&props=info&format=json')\n",
        "    data = response.json()\n",
        "    city_id = list(data['entities'].keys())[0]\n",
        "    return city_id\n",
        "\n",
        "def queryWikidata(query):\n",
        "    endpoint_url = \"https://query.wikidata.org/sparql\"\n",
        "    sparql = SPARQLWrapper(endpoint_url)\n",
        "    sparql.setQuery(query)\n",
        "    sparql.setReturnFormat(JSON)\n",
        "    # sparql.addParameter(\"language\", language)\n",
        "    results = sparql.query().convert()\n",
        "    return results"
      ]
    },
    {
      "attachments": {},
      "cell_type": "markdown",
      "metadata": {},
      "source": [
        "## Info générales"
      ]
    },
    {
      "cell_type": "code",
      "execution_count": null,
      "metadata": {},
      "outputs": [],
      "source": [
        "def queryInfoGeneric(city_id):\n",
        "    query = f\"\"\"\n",
        "                SELECT ?paysLabel ?abstract ?superficie ?coordinates ?population (GROUP_CONCAT(DISTINCT ?langueLabel; separator=\", \") AS ?langues) ?link ?density ?ageDistribution ?birthRate ?deathRate\n",
        "                WHERE {{\n",
        "                        wd:{city_id} wdt:P1082 ?population; wdt:P17 ?pays; wdt:P2046 ?superficie; wdt:P625 ?coordinates.\n",
        "                        OPTIONAL {{ wd:{city_id} wdt:P2936 ?langue. ?langue rdfs:label ?langueLabel. FILTER (lang(?langueLabel) = \"fr\"). }}\n",
        "                        OPTIONAL {{ wd:{city_id} wdt:P856 ?link. }}\n",
        "                        OPTIONAL {{\n",
        "                            wd:{city_id} schema:description ?abstract.\n",
        "                            FILTER (lang(?abstract) = \"fr\")\n",
        "                        }}\n",
        "                        OPTIONAL {{ wd:{city_id} wdt:P108 ?density. }}\n",
        "                        OPTIONAL {{ wd:{city_id} wdt:P2044 ?ageDistribution. }}\n",
        "                        OPTIONAL {{ wd:{city_id} wdt:P1582 ?birthRate. }}\n",
        "                        OPTIONAL {{ wd:{city_id} wdt:P2566 ?deathRate. }}\n",
        "                        SERVICE wikibase:label {{ bd:serviceParam wikibase:language \"[AUTO_LANGUAGE],en\". }}\n",
        "                }}\n",
        "                GROUP BY ?paysLabel ?abstract ?superficie ?coordinates ?population ?link ?density ?ageDistribution ?birthRate ?deathRate\n",
        "            \"\"\"\n",
        "\n",
        "    return queryWikidata(query)"
      ]
    },
    {
      "attachments": {},
      "cell_type": "markdown",
      "metadata": {},
      "source": [
        "## Info Localisées"
      ]
    },
    {
      "attachments": {},
      "cell_type": "markdown",
      "metadata": {},
      "source": [
        "### Villes proches"
      ]
    },
    {
      "cell_type": "code",
      "execution_count": null,
      "metadata": {},
      "outputs": [],
      "source": [
        "def queryNearestCities(city_id):\n",
        "    query = f\"\"\"\n",
        "            SELECT DISTINCT ?place ?placeLabel ?location ?dist \n",
        "            WHERE {{\n",
        "                wd:{city_id} wdt:P625 ?loc . \n",
        "                SERVICE wikibase:around {{\n",
        "                    ?place wdt:P625 ?location . \n",
        "                    bd:serviceParam wikibase:center ?loc . \n",
        "                    bd:serviceParam wikibase:radius \"100\" . \n",
        "                    bd:serviceParam wikibase:distance ?dist.\n",
        "                }}\n",
        "                FILTER EXISTS {{\n",
        "                    ?place wdt:P31 wd:Q515 .\n",
        "                }}\n",
        "                SERVICE wikibase:label {{ bd:serviceParam wikibase:language \"fr\". }}\n",
        "            }}\n",
        "            ORDER BY ASC(?dist) \n",
        "            LIMIT 5\n",
        "            \"\"\"\n",
        "    return queryWikidata(query)"
      ]
    },
    {
      "attachments": {},
      "cell_type": "markdown",
      "metadata": {},
      "source": [
        "### Aéroports"
      ]
    },
    {
      "cell_type": "code",
      "execution_count": null,
      "metadata": {},
      "outputs": [],
      "source": [
        "def queryAirports(city_id):\n",
        "    query = f\"\"\"\n",
        "            SELECT DISTINCT ?place ?placeLabel ?location ?dist \n",
        "            WHERE {{\n",
        "                wd:{city_id} wdt:P625 ?loc . \n",
        "                SERVICE wikibase:around {{\n",
        "                    ?place wdt:P625 ?location . \n",
        "                    bd:serviceParam wikibase:center ?loc . \n",
        "                    bd:serviceParam wikibase:radius \"100\" . \n",
        "                    bd:serviceParam wikibase:distance ?dist.\n",
        "                }}\n",
        "                FILTER EXISTS {{\n",
        "                    ?place wdt:P31/wdt:P279* wd:Q1248784 .\n",
        "                }}\n",
        "                SERVICE wikibase:label {{ bd:serviceParam wikibase:language \"fr\". }}\n",
        "            }}\n",
        "            ORDER BY ASC(?dist) \n",
        "            LIMIT 5\n",
        "            \"\"\"\n",
        "    return queryWikidata(query)"
      ]
    },
    {
      "attachments": {},
      "cell_type": "markdown",
      "metadata": {},
      "source": [
        "### Ports"
      ]
    },
    {
      "cell_type": "code",
      "execution_count": null,
      "metadata": {},
      "outputs": [],
      "source": [
        "def queryPorts(city_id):\n",
        "    query = f\"\"\"\n",
        "            SELECT DISTINCT ?place ?placeLabel ?location ?dist \n",
        "            WHERE {{\n",
        "                wd:{city_id} wdt:P625 ?loc . \n",
        "                SERVICE wikibase:around {{\n",
        "                    ?place wdt:P625 ?location . \n",
        "                    bd:serviceParam wikibase:center ?loc . \n",
        "                    bd:serviceParam wikibase:radius \"100\" . \n",
        "                    bd:serviceParam wikibase:distance ?dist.\n",
        "                }}\n",
        "                FILTER EXISTS {{\n",
        "                    ?place wdt:P31/wdt:P279* wd:Q44782 .\n",
        "                }}\n",
        "                SERVICE wikibase:label {{ bd:serviceParam wikibase:language \"fr\". }}\n",
        "            }}\n",
        "            ORDER BY ASC(?dist) \n",
        "            LIMIT 5\n",
        "            \"\"\"\n",
        "    return queryWikidata(query)"
      ]
    },
    {
      "attachments": {},
      "cell_type": "markdown",
      "metadata": {},
      "source": [
        "### Autoroutes"
      ]
    },
    {
      "cell_type": "code",
      "execution_count": null,
      "metadata": {},
      "outputs": [],
      "source": [
        "def queryHighways(city_id):\n",
        "    query = f\"\"\"\n",
        "            SELECT DISTINCT ?place ?placeLabel ?location ?dist \n",
        "            WHERE {{\n",
        "                wd:{city_id} wdt:P625 ?loc . \n",
        "                SERVICE wikibase:around {{\n",
        "                    ?place wdt:P625 ?location . \n",
        "                    bd:serviceParam wikibase:center ?loc . \n",
        "                    bd:serviceParam wikibase:radius \"100\" . \n",
        "                    bd:serviceParam wikibase:distance ?dist.\n",
        "                }}\n",
        "                FILTER EXISTS {{\n",
        "                    ?place wdt:P31/wdt:P279* wd:Q46622 .\n",
        "                }}\n",
        "                SERVICE wikibase:label {{ bd:serviceParam wikibase:language \"fr\". }}\n",
        "            }}\n",
        "            ORDER BY ASC(?dist) \n",
        "            LIMIT 5\n",
        "            \"\"\"\n",
        "    return queryWikidata(query)"
      ]
    },
    {
      "attachments": {},
      "cell_type": "markdown",
      "metadata": {},
      "source": [
        "## Print"
      ]
    },
    {
      "cell_type": "code",
      "execution_count": null,
      "metadata": {},
      "outputs": [],
      "source": [
        "def print_results(results):\n",
        "    for result in results['results']['bindings']:\n",
        "        id = result['place']['value'].split('/')[-1]\n",
        "        name = result['placeLabel']['value']\n",
        "        distance = result[\"dist\"][\"value\"]\n",
        "        print(f\"ID Wikidata : {id} - Nom : {name} - Distance : {distance} km\")\n",
        "    print(\"\\n\")\n",
        "\n",
        "def afficherInfoLocalisee(city):\n",
        "    print(\"########### Les villes les plus proches :###########\")\n",
        "    print_results(queryNearestCities(get_city_id(city)))\n",
        "    print(\"########### Les aéroports les plus proches :###########\")\n",
        "    print_results(queryAirports(get_city_id(city)))\n",
        "    print(\"########### Les ports les plus proches :###########\")\n",
        "    print_results(queryPorts(get_city_id(city)))\n",
        "    print(\"########### Les autoroutes les plus proches :###########\")\n",
        "    print_results(queryHighways(get_city_id(city)))"
      ]
    },
    {
      "cell_type": "code",
      "execution_count": null,
      "metadata": {},
      "outputs": [],
      "source": [
        "def afficherInfoGenerales(results):\n",
        "    for result in results[\"results\"][\"bindings\"]:\n",
        "        print(\"Pays:\", result[\"paysLabel\"][\"value\"])\n",
        "        print(\"Superficie:\", result[\"superficie\"][\"value\"])\n",
        "        print(\"Coordonnées:\", result[\"coordinates\"][\"value\"])\n",
        "        print(\"Population:\", result[\"population\"][\"value\"])\n",
        "        if \"abstract\" in result:\n",
        "            print(\"Description:\", result[\"abstract\"][\"value\"])\n",
        "        if \"langues\" in result:\n",
        "            print(\"Langues:\", result[\"langues\"][\"value\"])\n",
        "        if \"link\" in result:\n",
        "            print(\"Lien:\", result[\"link\"][\"value\"])\n",
        "        if \"density\" in result:\n",
        "            print(\"Densité de population:\", result[\"density\"][\"value\"])\n",
        "        if \"ageDistribution\" in result:\n",
        "            print(\"Altitude au-dessus du niveau de la mer:\", result[\"ageDistribution\"][\"value\"])\n",
        "        if \"birthRate\" in result:\n",
        "            print(\"Taux de natalité:\", result[\"birthRate\"][\"value\"])\n",
        "        if \"deathRate\" in result:\n",
        "            print(\"Taux de mortalité:\", result[\"deathRate\"][\"value\"])\n",
        "        print()"
      ]
    },
    {
      "attachments": {},
      "cell_type": "markdown",
      "metadata": {},
      "source": [
        "### Main"
      ]
    },
    {
      "cell_type": "code",
      "execution_count": null,
      "metadata": {},
      "outputs": [],
      "source": [
        "city = input(\"Entrez un nom de ville (appuyez sur Entrée pour quitter) : \")\n",
        "\n",
        "while city != \"\":\n",
        "    city_id = get_city_id(city)\n",
        "    if city_id == \"-1\":\n",
        "        print(f\"L'identifiant wikidata pour {city} n'a pas été trouvé.\")\n",
        "    else:\n",
        "        print(f\"L'identifiant wikidata pour {city} est : {city_id}\")\n",
        "        # results = queryInfoGeneric(city_id)\n",
        "        # afficherInfoGenerales(results)\n",
        "        afficherInfoLocalisee(city)\n",
        "    city = input(\"Entrez un nom de ville (appuyez sur Entrée pour quitter) : \")"
      ]
    }
  ],
  "metadata": {
    "colab": {
      "provenance": []
    },
    "kernelspec": {
      "display_name": "Python 3",
      "name": "python3"
    },
    "language_info": {
      "codemirror_mode": {
        "name": "ipython",
        "version": 3
      },
      "file_extension": ".py",
      "mimetype": "text/x-python",
      "name": "python",
      "nbconvert_exporter": "python",
      "pygments_lexer": "ipython3",
      "version": "3.9.13"
    }
  },
  "nbformat": 4,
  "nbformat_minor": 0
}
